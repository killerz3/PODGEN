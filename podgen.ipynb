{
  "cells": [
    {
      "cell_type": "code",
      "execution_count": 2,
      "metadata": {
        "colab": {
          "base_uri": "https://localhost:8080/"
        },
        "id": "vDx_uAJbdtAy",
        "outputId": "d631bb6d-0b45-4cdb-9f7b-279e120a9c2e"
      },
      "outputs": [
        {
          "name": "stdout",
          "output_type": "stream",
          "text": [
            "\n",
            "   {\n",
            "    \"title\":\"The Future of Large Language Models and AI\",\n",
            "    \"content\":{\n",
            "      \"Alice_0\":\"Welcome to today's podcast, Bob. We're going to discuss the future of large language models and AI.\",\n",
            "      \"BOB_0\":\"That sounds fascinating, Alice. Let's dive right in.\",\n",
            "      \"Alice_1\":\"First, let's talk about the potential impact of large language models. They have the ability to automate various tasks, from customer service to content creation.\",\n",
            "      \"BOB_1\":\"Indeed, and they can also help in areas like education, healthcare, and research by providing insights and solutions.\",\n",
            "      \"Alice_2\":\"As for AI, it's expected to become more integrated into our daily lives. We might see advancements in autonomous vehicles, smart homes, and even personalized learning systems.\",\n",
            "      \"BOB_2\":\"It's also predicted that AI will play a significant role in decision-making processes, from business strategies to government policies.\",\n",
            "      \"Alice_3\":\"However, it's important to note that with these advancements come ethical and privacy concerns. We need to ensure that AI is used responsibly and that user data is protected.\",\n",
            "      \"BOB_3\":\"Absolutely, Alice. It's crucial that we, as developers and users, prioritize transparency, accountability, and user consent.\",\n",
            "      \"Alice_4\":\"Lastly, let's touch on the potential challenges. One major challenge is ensuring that AI systems are fair and unbiased, as they learn from the data they are trained on.\",\n",
            "      \"BOB_4\":\"Another challenge is the need for continuous learning and adaptation. AI systems need to be able to learn from new data and adapt to changing environments.\",\n",
            "      \"Alice_5\":\"In conclusion, the future of large language models and AI is exciting, but it's also filled with challenges. We need to approach this future with a focus on ethics, privacy, and continuous learning.\",\n",
            "      \"BOB_5\":\"I couldn't agree more, Alice. Thank you for this insightful discussion. Tune in next time for more on the world of AI and large language models.\"\n",
            "    }\n",
            "  }"
          ]
        }
      ],
      "source": [
        "  from huggingface_hub import InferenceClient\n",
        "  import torch\n",
        "\n",
        "  Client = InferenceClient(\"mistralai/Mistral-7B-Instruct-v0.3\")\n",
        "  generator = torch.Generator().manual_seed(42)\n",
        "\n",
        "  system_instructions1 = '''[SYSTEM] You are a educational podcast generator you have to create a podcast between alice and bob that give an overview of the topic given be the user ,\n",
        "  only give the script with in json :\n",
        "    {\n",
        "      title:[string],\n",
        "      content:{\n",
        "        \"Alice_0\":[string],\n",
        "        \"BOB_0\":[string],\n",
        "        ....\n",
        "      }\n",
        "    }\n",
        "    keep consice\n",
        "    '''\n",
        "\n",
        "  generate_kwargs = dict(\n",
        "      max_new_tokens=1024,\n",
        "      seed=24\n",
        "  )\n",
        "  text =\" future of large language models and ai\"\n",
        "  formatted_prompt = system_instructions1 + text\n",
        "  stream = Client.text_generation(\n",
        "      formatted_prompt, **generate_kwargs, stream=True, details=True, return_full_text=False)\n",
        "  output=\"\"\n",
        "  for response in stream:\n",
        "    if not response.token.text == \"</s>\":\n",
        "      output+=response.token.text\n",
        "      print(response.token.text,end='')"
      ]
    },
    {
      "cell_type": "code",
      "execution_count": 7,
      "metadata": {
        "colab": {
          "base_uri": "https://localhost:8080/",
          "height": 35
        },
        "id": "68P-3Gkgm_2i",
        "outputId": "e98b8195-dd8c-47de-c352-1ef297425d1d"
      },
      "outputs": [
        {
          "data": {
            "text/plain": [
              "{'title': 'The Future of Large Language Models and AI',\n",
              " 'content': {'Alice': \"It's an exciting time, Bob. The future of large language models and AI promises to be transformative. Thanks for joining me today.\",\n",
              "  'Bob': 'My pleasure, Alice. Thanks for tuning in.'}}"
            ]
          },
          "execution_count": 7,
          "metadata": {},
          "output_type": "execute_result"
        }
      ],
      "source": [
        "import json\n",
        "text =json.loads(output)\n",
        "text"
      ]
    }
  ],
  "metadata": {
    "colab": {
      "provenance": []
    },
    "kernelspec": {
      "display_name": "Python 3",
      "name": "python3"
    },
    "language_info": {
      "codemirror_mode": {
        "name": "ipython",
        "version": 3
      },
      "file_extension": ".py",
      "mimetype": "text/x-python",
      "name": "python",
      "nbconvert_exporter": "python",
      "pygments_lexer": "ipython3",
      "version": "3.12.3"
    }
  },
  "nbformat": 4,
  "nbformat_minor": 0
}
